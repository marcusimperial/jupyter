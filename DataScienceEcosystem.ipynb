{
  "metadata": {
    "kernelspec": {
      "name": "python",
      "display_name": "Python (Pyodide)",
      "language": "python"
    },
    "language_info": {
      "codemirror_mode": {
        "name": "python",
        "version": 3
      },
      "file_extension": ".py",
      "mimetype": "text/x-python",
      "name": "python",
      "nbconvert_exporter": "python",
      "pygments_lexer": "ipython3",
      "version": "3.8"
    }
  },
  "nbformat_minor": 5,
  "nbformat": 4,
  "cells": [
    {
      "id": "5cf83dec",
      "cell_type": "markdown",
      "source": "# Data Science Tools and Ecosystem",
      "metadata": {
        "vscode": {
          "languageId": "raw"
        }
      }
    },
    {
      "id": "d03e2c4a",
      "cell_type": "markdown",
      "source": "In this notebook, Data Science Tools and Ecosystem are summarized.",
      "metadata": {
        "vscode": {
          "languageId": "raw"
        }
      }
    },
    {
      "id": "faa1eee6",
      "cell_type": "markdown",
      "source": "**Some of the popular languages that Data Scientists use are:**\n1. Python\n2. R\n3. SQL\n4. Julia\n5. Scala",
      "metadata": {
        "vscode": {
          "languageId": "raw"
        }
      }
    },
    {
      "id": "2acf04c7",
      "cell_type": "markdown",
      "source": "**Some of the commonly used libraries used by Data Scientists include:**\n1. Pandas\n2. NumPy\n3. Matplotlib\n4. Scikit-learn\n5. TensorFlow\n6. PyTorch\n",
      "metadata": {
        "vscode": {
          "languageId": "raw"
        }
      }
    },
    {
      "id": "7671080b",
      "cell_type": "markdown",
      "source": "| Data Science Tools |\n|-------------------|\n| Jupyter Notebooks |\n| RStudio |\n| Apache Zeppelin |\n",
      "metadata": {
        "vscode": {
          "languageId": "raw"
        }
      }
    },
    {
      "id": "0bcebb41",
      "cell_type": "markdown",
      "source": "### Below are a few examples of evaluating arithmetic expressions in Python.\n",
      "metadata": {
        "vscode": {
          "languageId": "raw"
        }
      }
    },
    {
      "id": "ce477f3d",
      "cell_type": "code",
      "source": "# Arithmetic expression to multiply then add integers\n(3*4)+5",
      "metadata": {
        "trusted": true
      },
      "outputs": [
        {
          "execution_count": 3,
          "output_type": "execute_result",
          "data": {
            "text/plain": "17"
          },
          "metadata": {}
        }
      ],
      "execution_count": 3
    },
    {
      "id": "77959e3e",
      "cell_type": "code",
      "source": "# Converts value 200 from [minutes] to [hours] by division\n200 / 60",
      "metadata": {
        "trusted": true
      },
      "outputs": [
        {
          "execution_count": 4,
          "output_type": "execute_result",
          "data": {
            "text/plain": "3.3333333333333335"
          },
          "metadata": {}
        }
      ],
      "execution_count": 4
    },
    {
      "id": "0abd8d78",
      "cell_type": "markdown",
      "source": "**Objectives:**\n* List popular languages for Data Science\n* List commonly used libraries for Data Science\n* List development environment tools for Data Science\n* Demonstrate arithmetic expressions in Python\n* Convert units using Python expressions",
      "metadata": {
        "vscode": {
          "languageId": "raw"
        }
      }
    },
    {
      "id": "1f969172",
      "cell_type": "markdown",
      "source": "## Author\nMarcus",
      "metadata": {
        "vscode": {
          "languageId": "raw"
        }
      }
    }
  ]
}